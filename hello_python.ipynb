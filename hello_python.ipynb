{
 "cells": [
  {
   "cell_type": "markdown",
   "id": "28fa5d3b",
   "metadata": {},
   "source": [
    "# Hello Python!\n",
    "\n",
    "Here, we'll take some first steps with the Python programming language. This tutorial starts from scratch so, if you've never written a line of code in your life, you've come to the right place!\n",
    "\n",
    "### What we're aiming to do\n",
    "\n",
    "We often find that knowing just a little bit of programming can get you a long way. We're aiming to teach you enought that you know how to:\n",
    "\n",
    "1. Identify problems that you can solve with a bit of programming\n",
    "2. Write and execute simple scripts\n",
    "3. Know how to find help when you get stuck\n",
    "    \n",
    "### What we're not doing\n",
    "\n",
    "This is not a comprehensive programming course! You're not going to be Mr. Robot or Neo. You won't learn every trick in the book, but hopefully just enough to get started.\n",
    "\n",
    "### Aren't there lots of these tutorials on the internet?\n",
    "\n",
    "Absolutely! Go check them out! Some recommendations are below:\n",
    "- [Programiz](https://www.programiz.com/python-programming)\n",
    "- [Python practice book](https://anandology.com/python-practice-book/index.html)\n",
    "- [Full stack python](https://www.fullstackpython.com/)"
   ]
  },
  {
   "cell_type": "markdown",
   "id": "c7cb0589",
   "metadata": {},
   "source": [
    "# Getting started"
   ]
  },
  {
   "cell_type": "markdown",
   "id": "a91613c6",
   "metadata": {},
   "source": [
    "If you've never written any Python at all before, the first thing we'll have to do is install Python itself. Yes, programming languages have to be installed just like anything else. \n",
    "\n",
    "To do this, go to: https://www.python.org/\n",
    "\n",
    "Hover over the 'Download' menu. The web site should detect the operating system you're using and offer up the correct package. You're looking for Python 3.10.\n",
    "\n",
    "Download the package and install using the installation wizard.\n",
    "\n",
    "<img src=\"img/download.PNG\" />\n",
    "\n",
    "Once Python is installed, go to your start menu. In the 'Recently added' section, you should see **IDLE (Python 3.10 64-bit)**. Start this application.\n",
    "\n",
    "<img src=\"img/run_idle.PNG\" />\n",
    "\n",
    "We should see something like this:\n",
    "\n",
    "<img src=\"img/idle_start.PNG\" />"
   ]
  },
  {
   "cell_type": "markdown",
   "id": "482bf201",
   "metadata": {},
   "source": [
    "This is what we call a Python 'interpreter'. It 'interprets' the code we write in Python and converts it to something that computers understand (0's and 1's).\n",
    "\n",
    "Let's write some code!"
   ]
  },
  {
   "cell_type": "markdown",
   "id": "1c0a9434",
   "metadata": {},
   "source": [
    "# Python basic data types\n",
    "\n",
    "Python has three basic data types:\n",
    "\n",
    "- Integer (referred to as int): whole numbers, either positive or negative or zero\n",
    "- Float (referred to as float): decimal numbers, either positive or negative or zero\n",
    "- String (referred to as str): text (can include numbers)\n",
    "\n",
    "We'll mostly be working with strings and integers today so let's have a look at these."
   ]
  },
  {
   "cell_type": "markdown",
   "id": "4d7ed334",
   "metadata": {},
   "source": [
    "## Strings\n",
    "\n",
    "A string in python is a collection of words or other characters. These can include letters, numbers, spaces or other special characters. Strings are denoted with either single ```''``` or double quotes ```\"\"```\n",
    "\n",
    "Below are some properties of strings:"
   ]
  },
  {
   "cell_type": "markdown",
   "id": "ee1fca20",
   "metadata": {},
   "source": [
    "Strings can be added together\n",
    "```\n",
    ">>> x = \"hello\"\n",
    ">>> x += ' everyone'\n",
    ">>> x\n",
    "hello everyone\n",
    "```\n",
    "\n",
    "Strings can be tested for other strings\n",
    "```\n",
    ">>> 'hell' in x\n",
    "True\n",
    "```\n",
    "\n",
    "Strings can be subsetted by an index\n",
    "```\n",
    ">>> x[0:10]\n",
    "'hello ever'\n",
    "```\n",
    "Strings can be split on a given character (here, on a space ```' '```)\n",
    "```\n",
    ">>> x.split(' ')\n",
    "['hello', 'everyone']\n",
    "```"
   ]
  },
  {
   "cell_type": "markdown",
   "id": "1ef61c75",
   "metadata": {},
   "source": [
    "## Integers\n",
    "\n",
    "This one is straight-forward.\n",
    "```\n",
    ">>> y = 100\n",
    ">>> y += 10\n",
    ">>> y\n",
    "110\n",
    "```\n",
    "```\n",
    ">>> z = 100\n",
    ">>> z -= 65\n",
    ">>> z\n",
    "35\n",
    "```\n",
    "```\n",
    ">>> a = 4\n",
    ">>> b = 2\n",
    ">>> a * b\n",
    "8\n",
    "```\n",
    "```\n",
    ">>> a / b\n",
    "2.0\n",
    "```\n",
    "Note that, for division, the result is a float (decimal number). This behaviour is different between Python 2 and Python 3 (but we'll stick with 3 so don't worry!)"
   ]
  },
  {
   "cell_type": "markdown",
   "id": "672d72ce",
   "metadata": {},
   "source": [
    "# Python basic data structures\n",
    "\n",
    "Data structures refer to different ways that we can organise and access our data (strings, integers, floats etc). Python has many different data structures but you can go a long way with programming by understanding just a few:\n",
    "\n",
    "- Lists\n",
    "- Tuples\n",
    "- Dictionaries\n",
    "- Sets\n",
    "\n",
    "We'll mostly use lists today so let's look at those."
   ]
  },
  {
   "cell_type": "markdown",
   "id": "cf02323e",
   "metadata": {},
   "source": [
    "## Lists\n",
    "\n",
    "Lists store multiple different items in a single varialb. Similar to how we think about lists in real life, lists have an order, can store different data types (strings, integers, floats...) and can be added to and removed from.\n",
    "\n",
    "Lists are declared in python with square brackets: ```[]```\n",
    "\n",
    "Below are some examples of how we can work with lists:\n",
    "\n",
    "We can append items to a list\n",
    "```\n",
    ">>> x = []\n",
    ">>> x.append(1)\n",
    ">>> x.append(2)\n",
    ">>> x\n",
    "[1, 2]\n",
    "```\n",
    "\n",
    "Items in a list can be accessed using an index (starting from 0!)\n",
    "```\n",
    ">>> x = ['a','b','c','d','e','f']\n",
    ">>> x[0]\n",
    "'a'\n",
    ">>> x[2]\n",
    "'c'\n",
    ">>> x[-1]\n",
    "'f'\n",
    "```\n",
    "We can select ranges from within a list:\n",
    "```\n",
    ">>> x[2:4]\n",
    "['c', 'd']\n",
    "```\n",
    "Lists have a length:\n",
    "```\n",
    ">>> x = ['a','b','c','d','e','f']\n",
    ">>> len(x)\n",
    "6\n",
    "```\n",
    "\n",
    "Lists can contain mixed data types:\n",
    "```\n",
    ">>> x = ['a','b',100,'d','e','f']\n",
    "```\n",
    "Lists can contain other lists:\n",
    "```\n",
    ">>> x = ['a','b','c', [1, 2, 3],'e','f']\n",
    "```\n",
    "\n",
    "We cam 'iterate' through lists:\n",
    "```\n",
    ">>> for element in x:\n",
    "...     print(element)\n",
    "... \n",
    "a\n",
    "b\n",
    "c\n",
    "[1, 2, 3]\n",
    "e\n",
    "f\n",
    "```\n"
   ]
  },
  {
   "cell_type": "markdown",
   "id": "a1d9d303",
   "metadata": {},
   "source": [
    "## Scripts\n",
    "\n",
    "Above we were typing code into the interpreter line-by-line and looking at the results. This is fine but will quickly becomes tedious as we write more and more code. We'd be better off writing all our code into a file (a ```script```) and then telling python to run all the code at once.\n",
    "\n",
    "- Go to 'File' and and select 'New File'\n",
    "- A new window will appear - This is your script file!\n",
    "- Here, you can type some code\n",
    "- To execute your code, go to 'Run' and select 'Run Module\"\n",
    "- You'll be prompted to save your file and then the code will run in the interpreter window\n",
    "\n",
    "<img src=\"img/script.PNG\" width=\"75%\" />\n"
   ]
  },
  {
   "cell_type": "markdown",
   "id": "e3f15f6e",
   "metadata": {},
   "source": [
    "## Working with files\n",
    "\n",
    "We frequently need to use python to open a file on our computers and work with the contents. For the rest of the tutorial, we'll learn how to read a file, iterate through lines of the file and conduct various filterings and comparisons.\n",
    "\n",
    "The ```fasta``` directory contains the files we'll use in this tutorial. Our first job is to look at the data files and see what we're dealing with. Open one the file called ```small.fasta``` in a text editor (notepad or similar).\n",
    "\n",
    "<img src=\"img/fasta.PNG\" width=\"95%\" />\n",
    "\n",
    "The data is in the [FASTA file format](https://en.wikipedia.org/wiki/FASTA_format) which is common for storing protein sequences. Here, each protein entry begins with a 'header' line that begins with ```>``` followed by some text that can provide database identifiers, protein names and descriptions, taxonomy information and so on.\n",
    "\n",
    "The lines following header line provide the sequence of the protein."
   ]
  },
  {
   "cell_type": "markdown",
   "id": "aed6438b",
   "metadata": {},
   "source": [
    "### Opening a file\n",
    "\n",
    "In the 'fasta' directory, we have a few ```.fasta``` files. We'll start by reading the ```small.fasta``` file"
   ]
  },
  {
   "cell_type": "code",
   "execution_count": 8,
   "id": "a57de6da",
   "metadata": {},
   "outputs": [
    {
     "name": "stdout",
     "output_type": "stream",
     "text": [
      ">sp|Q9ULX7|CAH14_HUMAN Carbonic anhydrase 14 OS=Homo sapiens OX=9606 GN=CA14 PE=1 SV=1\n",
      "MLFSALLLEVIWILAADGGQHWTYEGPHGQDHWPASYPECGNNAQSPIDIQTDSVTFDPD\n",
      "LPALQPHGYDQPGTEPLDLHNNGHTVQLSLPSTLYLGGLPRKYVAAQLHLHWGQKGSPGG\n",
      "SEHQINSEATFAELHIVHYDSDSYDSLSEAAERPQGLAVLGILIEVGETKNIAYEHILSH\n",
      "LHEVRHKDQKTSVPPFNLRELLPKQLGQYFRYNGSLTTPPCYQSVLWTVFYRRSQISMEQ\n",
      "LEKLQGTLFSTEEEPSKLLVQNYRALQPLNQRMVFASFIQAGSSYTTGEMLSLGVGILVG\n",
      "CLCLLLAVYFIARKIRKKRLENRKSVVFTSAQATTEA\n"
     ]
    }
   ],
   "source": [
    "# open the FASTA file in 'read' mode\n",
    "fasta_file = open('fasta/small.fasta','r').readlines()\n",
    "\n",
    "# iterate through lines\n",
    "for line in fasta_file:\n",
    "    print(line.strip())"
   ]
  },
  {
   "cell_type": "markdown",
   "id": "afc6fa92",
   "metadata": {},
   "source": [
    "Let's explain the above:\n",
    "\n",
    " - On line 2, we use 'open' to access our file\n",
    "     - the first argument ```fasta/small.fasta``` is the path to the file we want to access\n",
    "     - the second argument ```r``` tells python to open the file in 'read' mode\n",
    "     - the ```.readlines()``` call tells python to separate the file into individual lines\n",
    " - This creates a ```list``` containing the text from our file. On link 5, we iterate through the list in the same way that we learned earlier\n",
    " - On line 6, we print the line\n",
    "     - The ```.strip()``` call removes extra spaces from the start and end of the text\n",
    "         - See what happens if you remove the ```.strip()``` call and re-run the code "
   ]
  },
  {
   "cell_type": "markdown",
   "id": "4e6e9209",
   "metadata": {},
   "source": [
    "Let's add a filter in our ```for``` loop so we print only the FASTA header line"
   ]
  },
  {
   "cell_type": "code",
   "execution_count": 12,
   "id": "caf46634",
   "metadata": {},
   "outputs": [
    {
     "name": "stdout",
     "output_type": "stream",
     "text": [
      ">sp|Q9ULX7|CAH14_HUMAN Carbonic anhydrase 14 OS=Homo sapiens OX=9606 GN=CA14 PE=1 SV=1\n"
     ]
    }
   ],
   "source": [
    "# open the FASTA file in 'read' mode\n",
    "fasta_file = open('fasta/small.fasta','r').readlines()\n",
    "\n",
    "# iterate through lines\n",
    "for line in fasta_file:\n",
    "    if '>' in line:\n",
    "        print(line.strip())"
   ]
  },
  {
   "cell_type": "markdown",
   "id": "53f0f741",
   "metadata": {},
   "source": [
    "What if we wanted to print the sequence and not the header lines?"
   ]
  },
  {
   "cell_type": "code",
   "execution_count": 13,
   "id": "09648aab",
   "metadata": {},
   "outputs": [
    {
     "name": "stdout",
     "output_type": "stream",
     "text": [
      "MLFSALLLEVIWILAADGGQHWTYEGPHGQDHWPASYPECGNNAQSPIDIQTDSVTFDPD\n",
      "LPALQPHGYDQPGTEPLDLHNNGHTVQLSLPSTLYLGGLPRKYVAAQLHLHWGQKGSPGG\n",
      "SEHQINSEATFAELHIVHYDSDSYDSLSEAAERPQGLAVLGILIEVGETKNIAYEHILSH\n",
      "LHEVRHKDQKTSVPPFNLRELLPKQLGQYFRYNGSLTTPPCYQSVLWTVFYRRSQISMEQ\n",
      "LEKLQGTLFSTEEEPSKLLVQNYRALQPLNQRMVFASFIQAGSSYTTGEMLSLGVGILVG\n",
      "CLCLLLAVYFIARKIRKKRLENRKSVVFTSAQATTEA\n"
     ]
    }
   ],
   "source": [
    "# open the FASTA file in 'read' mode\n",
    "fasta_file = open('fasta/small.fasta','r').readlines()\n",
    "\n",
    "# iterate through lines\n",
    "for line in fasta_file:\n",
    "    if '>' not in line:\n",
    "        print(line.strip())"
   ]
  },
  {
   "cell_type": "markdown",
   "id": "29b6766e",
   "metadata": {},
   "source": [
    "We've got our sequence above but there's a small problem - it's split across 6 lines. Ideally, we'd like our sequence to be one continuous string so we can easily compare it to other sequences."
   ]
  },
  {
   "cell_type": "code",
   "execution_count": 21,
   "id": "bea1591b",
   "metadata": {},
   "outputs": [
    {
     "name": "stdout",
     "output_type": "stream",
     "text": [
      "MLFSALLLEVIWILAADGGQHWTYEGPHGQDHWPASYPECGNNAQSPIDIQTDSVTFDPDLPALQPHGYDQPGTEPLDLHNNGHTVQLSLPSTLYLGGLPRKYVAAQLHLHWGQKGSPGGSEHQINSEATFAELHIVHYDSDSYDSLSEAAERPQGLAVLGILIEVGETKNIAYEHILSHLHEVRHKDQKTSVPPFNLRELLPKQLGQYFRYNGSLTTPPCYQSVLWTVFYRRSQISMEQLEKLQGTLFSTEEEPSKLLVQNYRALQPLNQRMVFASFIQAGSSYTTGEMLSLGVGILVGCLCLLLAVYFIARKIRKKRLENRKSVVFTSAQATTEA\n"
     ]
    }
   ],
   "source": [
    "# open the FASTA file in 'read' mode\n",
    "fasta_file = open('fasta/small.fasta','r').readlines()\n",
    "\n",
    "# create an 'empty' string using the '' or \"\" quote marks\n",
    "this_protein = ''\n",
    "\n",
    "# iterate through lines\n",
    "for line in fasta_file:\n",
    "    if '>' not in line:\n",
    "        \n",
    "        # here, we add the new line to our empty string\n",
    "        this_protein += line.strip()\n",
    "\n",
    "# print the result\n",
    "print(this_protein)"
   ]
  },
  {
   "cell_type": "markdown",
   "id": "b9576330",
   "metadata": {},
   "source": [
    "OK, so we know how to assemble the whole protein sequence into one string. So far, this works fine for our small fasta file (which only has one protein), but what if the file had more?\n",
    "\n",
    "Let's write some code that uses the ```medium.fasta``` file as input."
   ]
  },
  {
   "cell_type": "markdown",
   "id": "9c289fa7",
   "metadata": {},
   "source": [
    "First, we'll count the number of proteins:"
   ]
  },
  {
   "cell_type": "code",
   "execution_count": 24,
   "id": "e2df3659",
   "metadata": {},
   "outputs": [
    {
     "name": "stdout",
     "output_type": "stream",
     "text": [
      "2\n"
     ]
    }
   ],
   "source": [
    "# open the FASTA file in 'read' mode\n",
    "fasta_file = open('fasta/medium.fasta','r').readlines()\n",
    "\n",
    "counter = 0\n",
    "\n",
    "# iterate through lines\n",
    "for line in fasta_file:\n",
    "    \n",
    "    # add 1 to our counter for every header line we see\n",
    "    if '>' in line:\n",
    "        counter += 1\n",
    "\n",
    "# print the result\n",
    "print(counter)"
   ]
  },
  {
   "cell_type": "code",
   "execution_count": 31,
   "id": "2a6206f1",
   "metadata": {},
   "outputs": [
    {
     "name": "stdout",
     "output_type": "stream",
     "text": [
      "MLFSALLLEVIWILAADGGQHWTYEGPHGQDHWPASYPECGNNAQSPIDIQTDSVTFDPDLPALQPHGYDQPGTEPLDLHNNGHTVQLSLPSTLYLGGLPRKYVAAQLHLHWGQKGSPGGSEHQINSEATFAELHIVHYDSDSYDSLSEAAERPQGLAVLGILIEVGETKNIAYEHILSHLHEVRHKDQKTSVPPFNLRELLPKQLGQYFRYNGSLTTPPCYQSVLWTVFYRRSQISMEQLEKLQGTLFSTEEEPSKLLVQNYRALQPLNQRMVFASFIQAGSSYTTGEMLSLGVGILVGCLCLLLAVYFIARKIRKKRLENRKSVVFTSAQATTEA\n",
      "MPPSISAFQAAYIGIEVLIALVSVPGNVLVIWAVKVNQALRDATFCFIVSLAVADVAVGALVIPLAILINIGPQTYFHTCLMVACPVLILTQSSILALLAIAVDRYLRVKIPLRYKMVVTPRRAAVAIAGCWILSFVVGLTPMFGWNNLSAVERAWAANGSMGEPVIKCEFEKVISMEYMVYFNFFVWVLPPLLLMVLIYLEVFYLIRKQLNKKVSASSGDPQKYYGKELKIAKSLALILFLFALSWLPLHILNCITLFCPSCHKPSILTYIAIFLTHGNSAMNPIVYAFRIQKFRVTFLKIWNDHFRCQPAPPIDEDLPEERPDD\n"
     ]
    }
   ],
   "source": [
    "# open the FASTA file in 'read' mode\n",
    "fasta_file = open('fasta/medium.fasta','r').readlines()\n",
    "\n",
    "# create an 'empty' list to store the sequences\n",
    "sequences = []\n",
    "\n",
    "# iterate through lines\n",
    "for line in fasta_file:\n",
    "    \n",
    "    if '>' in line:\n",
    "        # for every header line we see, add an empty string to the list\n",
    "        # -- this empty string will later be populated with the sequence\n",
    "        sequences.append('')\n",
    "        \n",
    "    if '>' not in line:\n",
    "        # here, we add the new line to our empty string\n",
    "        # note that sequences[-1] refers to the last item in the list\n",
    "        sequences[-1] += line.strip()\n",
    "\n",
    "# print the result\n",
    "for sequence in sequences:\n",
    "    print(sequence)"
   ]
  },
  {
   "cell_type": "markdown",
   "id": "d506fc0b",
   "metadata": {},
   "source": [
    "## Finding mutations in protein sequences between two subjects\n",
    "\n",
    "Ok, let's move on to something a bit more involved. Let's say that we've got a list of protein sequences found in two different people and we suspect that one person has a detrimental mutation in at least one protein. Our task is to read the files containing the protein sequences for each person, iterate through them, and compare their sequences to find any differences.\n",
    "\n",
    "The protein sequences are in the ```fasta``` directory and are labelled ```subject_1.fasta``` and ```subject_2.fasta```"
   ]
  },
  {
   "cell_type": "markdown",
   "id": "95220811",
   "metadata": {},
   "source": [
    "#### Exploring the data\n",
    "Let's check how many proteins we have in each file"
   ]
  },
  {
   "cell_type": "code",
   "execution_count": 17,
   "id": "ba5da416",
   "metadata": {},
   "outputs": [
    {
     "name": "stdout",
     "output_type": "stream",
     "text": [
      "3684\n",
      "3684\n",
      "True\n"
     ]
    }
   ],
   "source": [
    "def count_proteins(file_name):\n",
    "\n",
    "    # create an empty list\n",
    "    # here, we'll store the FASTA header lines as we read them from the files\n",
    "    headers = []\n",
    "    \n",
    "    # open the FASTA file in 'read' mode\n",
    "    fasta_file = open(file_name,'r').readlines()\n",
    "    \n",
    "    # iterate through lines\n",
    "    for line in fasta_file:\n",
    "        \n",
    "        # we're interested in the header lines, which start with '>'\n",
    "        if '>' in line:\n",
    "            \n",
    "            # we've found a header line\n",
    "            # - append to the list\n",
    "            headers.append(line)\n",
    "    \n",
    "    # return the list from the function\n",
    "    return headers\n",
    "\n",
    "# read the subject_1 FASTA file\n",
    "subject_1_headers = count_proteins('fasta/subject_1.fasta')\n",
    "\n",
    "# read the subject_2 FASTA file\n",
    "subject_2_headers = count_proteins('fasta/subject_2.fasta')\n",
    "\n",
    "print(len(subject_1_headers))\n",
    "print(len(subject_2_headers))\n",
    "\n",
    "print(subject_1_headers == subject_2_headers)"
   ]
  },
  {
   "cell_type": "markdown",
   "id": "c0051dcc",
   "metadata": {},
   "source": [
    "Hold on! We just did something new! What's this ```def count_proteins(file_name):``` business?\n",
    "\n",
    "### Functions\n",
    "Above we wanted to open two different files, and collect the header lines from both. We already knew how to do that from our work above. For example, we could have written something like:"
   ]
  },
  {
   "cell_type": "code",
   "execution_count": 16,
   "id": "f40a464a",
   "metadata": {},
   "outputs": [
    {
     "name": "stdout",
     "output_type": "stream",
     "text": [
      "3684\n",
      "3684\n"
     ]
    }
   ],
   "source": [
    "subject_1_headers = []\n",
    "fasta_file_1 = open('fasta/subject_1.fasta','r').readlines()\n",
    "for line in fasta_file_1:\n",
    "    if '>' in line:\n",
    "        subject_1_headers.append(line)\n",
    "\n",
    "subject_2_headers = []\n",
    "fasta_file_2 = open('fasta/subject_2.fasta','r').readlines()\n",
    "for line in fasta_file_2:\n",
    "    if '>' in line:\n",
    "        subject_2_headers.append(line)\n",
    "        \n",
    "print(len(subject_1_headers))\n",
    "print(len(subject_2_headers))"
   ]
  },
  {
   "cell_type": "markdown",
   "id": "c3678df8",
   "metadata": {},
   "source": [
    "This gets us to the exact same point. It's fine but the problem is that we're repeating a lot of code. The lines that open the files, iterate through the contents, filter for header (```>```) lines and append to a list are the same for both!\n",
    "\n",
    "Generally, we want to write as little code as possible. This helps to keep things easy to maintain, makes mistakes easier to find and fix, and just generally keeps things nice!\n",
    "\n",
    "In our first code block, we're written what we call a 'function'.\n",
    "\n",
    "Functions are blocks of code that we write once and then can re-use with different input ```arguments```.\n",
    "\n",
    "A more simple example is below. Here, we define (```def```) that we'll call ```multiply_by_two```. This function takes one input (```x```) that we work with inside the function and then ```return``` back to the line of code that asked for it."
   ]
  },
  {
   "cell_type": "code",
   "execution_count": 12,
   "id": "bcd6fee3",
   "metadata": {},
   "outputs": [
    {
     "name": "stdout",
     "output_type": "stream",
     "text": [
      "2\n",
      "20\n",
      "10\n"
     ]
    }
   ],
   "source": [
    "# define a new function with 'def'\n",
    "def multiply_by_two(x):\n",
    "    result = x * 2\n",
    "    return result\n",
    "\n",
    "print(multiply_by_two(1))\n",
    "print(multiply_by_two(10))\n",
    "print(multiply_by_two(5))"
   ]
  },
  {
   "cell_type": "markdown",
   "id": "e743c843",
   "metadata": {},
   "source": [
    "Functions can have as many input ```arguments``` as we need:"
   ]
  },
  {
   "cell_type": "code",
   "execution_count": 13,
   "id": "1e6eebfa",
   "metadata": {},
   "outputs": [
    {
     "name": "stdout",
     "output_type": "stream",
     "text": [
      "100\n",
      "20\n",
      "15\n"
     ]
    }
   ],
   "source": [
    "def multiply_x_by_y(x, y):\n",
    "    result = x * y\n",
    "    return result\n",
    "\n",
    "print(multiply_x_by_y(1, 100))\n",
    "print(multiply_x_by_y(10, 2))\n",
    "print(multiply_x_by_y(5, 3))"
   ]
  },
  {
   "cell_type": "markdown",
   "id": "88089aa0",
   "metadata": {},
   "source": [
    "Ok, back to our fasta files. We know that we have the same number of proteins in each file because the number of header lines is the same. \n",
    "\n",
    "Let's now write a function to read the sequences."
   ]
  },
  {
   "cell_type": "code",
   "execution_count": 14,
   "id": "a94001e2",
   "metadata": {},
   "outputs": [],
   "source": [
    "def read_protein_sequences(file_name):\n",
    "    \n",
    "    # open the FASTA file in 'read' mode\n",
    "    fasta_file = open(file_name,'r').readlines()\n",
    "\n",
    "    # create an 'empty' list to store the sequences\n",
    "    sequences = []\n",
    "\n",
    "    # iterate through lines\n",
    "    for line in fasta_file:\n",
    "\n",
    "        if '>' in line:\n",
    "            # for every header line we see, add an empty string to the list\n",
    "            # -- this empty string will later be populated with the sequence\n",
    "            sequences.append('')\n",
    "\n",
    "        if '>' not in line:\n",
    "            # here, we add the new line to our empty string\n",
    "            # note that sequences[-1] refers to the last item in the list (the item most recently added)\n",
    "            sequences[-1] += line.strip()\n",
    "    \n",
    "    return sequences\n",
    "\n",
    "# read the subject_1 FASTA file\n",
    "subject_1_sequences = read_protein_sequences('fasta/subject_1.fasta')\n",
    "\n",
    "# read the subject_2 FASTA file\n",
    "subject_2_sequences = read_protein_sequences('fasta/subject_2.fasta')"
   ]
  },
  {
   "cell_type": "markdown",
   "id": "922ba201",
   "metadata": {},
   "source": [
    "Now we've got our protein sequences from both subjects. Let's see if there are any differences:"
   ]
  },
  {
   "cell_type": "code",
   "execution_count": 41,
   "id": "c7840b70",
   "metadata": {},
   "outputs": [
    {
     "name": "stdout",
     "output_type": "stream",
     "text": [
      "False\n"
     ]
    }
   ],
   "source": [
    "print(subject_1_sequences == subject_2_sequences)"
   ]
  },
  {
   "cell_type": "markdown",
   "id": "dd70dea4",
   "metadata": {},
   "source": [
    "There are some differences between our subjects! Right now, we don't know how many proteins or amino acids differ though. Lets find them:"
   ]
  },
  {
   "cell_type": "code",
   "execution_count": 48,
   "id": "cb4afcfc",
   "metadata": {},
   "outputs": [
    {
     "name": "stdout",
     "output_type": "stream",
     "text": [
      "MEEPQSDPSVEPPLSQETFSDLWKLLPENNVLSPLPSQAMDDLMLSPDDIEQWFTEDPGPDEAPRMPEAAPPVAPAPAAPTPAAPAPAPSWPLSSSVPSQKTYQGSYGFRLGFLHSGTAKSVTCTYSPALNKMFCQLAKTCPVQLWVDSTPPPGTRVRAMAIYKQSQHMTEVVRRCPHHERCSDSDGLAPPQHLIRVEGNLRVEYLDDRNTFRHSVVVPYEPPEVGSDCTTIHYNYMCNSSCMGGMNRRPILTIITLEDSSGNLLGRNSFEVRVCACPGRDRRTEEENLRKKGEPHHELPPGSTKRALPNNTSSSPQPKKKPLDGEYFTLQIRGRERFEMFRELNEALELKDAQAGKEPGGSRAHSSHLKSKKGQSTSRHKKLMFKTEGPDSD\n",
      "MEEPQSDPSVEPPLSQETFSDLWKLLPENNVLSPLPSQAMDDLMLSPDDIEQWFTEDPGPDEAPRMPEAAPPVAPAPAAPTPAAPAPAPSWPLSSSVPSQKTYQGSYGFRLGFLHSGTAKSVTCTYSPALNKMFCQLAKTCPVQLWVDSTPPPGTRVRAMAIYKQSQHMTEVVRRCPHHERCSDSDGLAPPQHLIRVEGNLRVEYLDDRNTFRHSVVVPYEPPEVGSDCTTIHYNYMCNSSCMGGMNRRPILTIITLEDSSGNLLGRNSFEVHVCACPGRDRRTEEENLRKKGEPHHELPPGSTKRALPNNTSSSPQPKKKPLDGEYFTLQIRGRERFEMFRELNEALELKDAQAGKEPGGSRAHSSHLKSKKGQSTSRHKKLMFKTEGPDSD\n"
     ]
    }
   ],
   "source": [
    "for i in range(len(subject_1_sequences)):\n",
    "\n",
    "    # is the i'th sequence from subject 1 different to the i'th sequence from subject 2?\n",
    "    # -- print the sequences if they are different\n",
    "    if subject_1_sequences[i] != subject_2_sequences[i]:\n",
    "        print(subject_1_sequences[i])\n",
    "        print(subject_2_sequences[i])"
   ]
  },
  {
   "cell_type": "markdown",
   "id": "d416020c",
   "metadata": {},
   "source": [
    "We did something new here. ```range(len(subject_1_sequences))```... what's that?\n",
    "\n",
    "We need a way of retrieving the first, second, third.... elements of the ```subject_1_sequences``` list and the first element of the ```subject_2_sequences``` lists so that we can compare them.\n",
    "\n",
    "Remember that we can retrieve elements from a list ```x``` with the ```x[0]```, ```x[1]```, ```x[2]```... syntax. \n",
    "\n",
    "```range()``` will create a list* of integers of a given length starting from 0.\n",
    "\n",
    "For example, ```range(5)``` will create ```[0,1,2,3,4]``` and ```range(10)``` will create ```[0,1,2,3,4,5,6,7,8,9]```.\n",
    "\n",
    "When we call ```range(len(subject_1_sequences))```, we're saying make a list of integers starting at 0 of the same length as the list ```subject_1_sequences```. This is handy since we can use these integers to retrieve the relevant elements from our sequence lists.\n",
    "\n",
    "\n",
    "\n",
    "\n",
    "\n",
    "*range actually creates a generator, but that's for another time"
   ]
  },
  {
   "cell_type": "markdown",
   "id": "900415d3",
   "metadata": {},
   "source": [
    "Can you spot the amino acid that's different? It's a bit hard. Let's write some code to find it for us:"
   ]
  },
  {
   "cell_type": "code",
   "execution_count": 18,
   "id": "e2398739",
   "metadata": {},
   "outputs": [
    {
     "name": "stdout",
     "output_type": "stream",
     "text": [
      "273: R --> H\n",
      ">sp|P04637|P53_HUMAN Cellular tumor antigen p53 OS=Homo sapiens OX=9606 GN=TP53 PE=1 SV=4\n",
      "\n"
     ]
    }
   ],
   "source": [
    "for i in range(len(subject_1_sequences)):\n",
    "    \n",
    "    # is the i'th sequence from subject 1 different to the i'th sequence from subject 2?\n",
    "    if subject_1_sequences[i] != subject_2_sequences[i]:\n",
    "        \n",
    "        # search through the sequences of both proteins \n",
    "        for j in range(len(subject_1_sequences[i])):\n",
    "            \n",
    "            # is residue j of protein 1 different to residue [j] of protein 2? \n",
    "            if subject_1_sequences[i][j] != subject_2_sequences[i][j]:\n",
    "                \n",
    "                # if so, print the result\n",
    "                print('%s: %s --> %s' % (\n",
    "                    j+1, subject_1_sequences[i][j], subject_2_sequences[i][j])\n",
    "                )\n",
    "                \n",
    "                # print the fasta header line as sell\n",
    "                print(subject_1_headers[i])"
   ]
  },
  {
   "cell_type": "markdown",
   "id": "db2eb5d3",
   "metadata": {},
   "source": [
    "Residue arginine 273 of the p53 protein has been mutated to histidine. Biologically speaking that's an important mutation and is known to be involved in the genesis of many cancers."
   ]
  },
  {
   "cell_type": "markdown",
   "id": "6cceb38d",
   "metadata": {},
   "source": [
    "## Thanks!\n",
    "\n",
    "We hope you've enjoyed this tutorial and find it useful! For questions, contact:\n",
    "\n",
    "- Dr. Nikeisha Caruana (nikeisha.caruana@unimelb.edu.au)\n",
    "- Dr. Michael Leeming (leemingm@unimelb.edu.au)"
   ]
  }
 ],
 "metadata": {
  "kernelspec": {
   "display_name": "Python 2",
   "language": "python",
   "name": "python2"
  },
  "language_info": {
   "codemirror_mode": {
    "name": "ipython",
    "version": 3
   },
   "file_extension": ".py",
   "mimetype": "text/x-python",
   "name": "python",
   "nbconvert_exporter": "python",
   "pygments_lexer": "ipython3",
   "version": "3.10.4"
  }
 },
 "nbformat": 4,
 "nbformat_minor": 5
}
