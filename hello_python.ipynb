{
 "cells": [
  {
   "cell_type": "markdown",
   "id": "28fa5d3b",
   "metadata": {},
   "source": [
    "# Hello Python!\n",
    "\n",
    "Here, we'll take some first steps with the Python programming language. This tutorial starts from scratch so, if you've never written a line of code in your life, you've come to the right place!\n",
    "\n",
    "### What we're aiming to do\n",
    "\n",
    "We often find that knowing just a little bit of programming can get you a long way. We're aiming to teach you enought that you know how to:\n",
    "\n",
    "    1. Identify problems that you can solve with a bit of programming\n",
    "    2. Write and execute simple scripts\n",
    "    3. Know how to find help when you get stuck\n",
    "    \n",
    "### What we're not trying to do\n",
    "\n",
    "This is not a comprehensive programming course! You're not going to be Mr. Robot or Neo. You won't learn every trick in the book, but hopefully just enough to get started.\n",
    "\n",
    "### Aren't there lots of these tutorials on the internet?\n",
    "\n",
    "Absolutely! Go check them out! Some recommendations are below:\n",
    "\n",
    "    - Resource 1.\n",
    "    - Resource 2.\n",
    "    - Resource 3."
   ]
  },
  {
   "cell_type": "markdown",
   "id": "c7cb0589",
   "metadata": {},
   "source": [
    "# Getting started"
   ]
  },
  {
   "cell_type": "markdown",
   "id": "a91613c6",
   "metadata": {},
   "source": [
    "If you've never written any Python at all before, the first thing we'll have to do is install Python itself. Yes, programming languages have to be installed just like anything else. \n",
    "\n",
    "To do this, go to: https://www.python.org/\n",
    "\n",
    "Hover over the 'Download' menu. The web site should detect the operating system you're using and offer up the correct package. You're looking for Python 3.10.\n",
    "\n",
    "Download the package and install using the installation wizard.\n",
    "\n",
    "<img src=\"img/download.PNG\" width=\"75%\"/>\n",
    "\n",
    "Once Python is installed, go to your start menu. In the 'Recently added' section, you should see **IDLE (Python 3.10 64-bit)**. Start this application.\n",
    "\n",
    "<img src=\"img/run_idle.PNG\" width=\"50%\"/>\n",
    "\n",
    "We should see something like this:\n",
    "\n",
    "<img src=\"img/idle_start.PNG\" width=\"50%\"/>"
   ]
  },
  {
   "cell_type": "markdown",
   "id": "482bf201",
   "metadata": {},
   "source": [
    "This is what we call a Python 'interpreter'. It 'interprets' the code we write in Python and converts it to something that computers understand (0's and 1's).\n",
    "\n",
    "Let's write some code!"
   ]
  },
  {
   "cell_type": "markdown",
   "id": "a1d9d303",
   "metadata": {},
   "source": [
    "## Scripts\n",
    "\n",
    "Above we were typing code into the interpreter line-by-line and this quickly becomes tedious. We would be better off writing all our code into a file (a 'script') and then telling python to run all the code at once.\n",
    "\n"
   ]
  },
  {
   "cell_type": "markdown",
   "id": "4d938199",
   "metadata": {},
   "source": [
    "## Working with files\n",
    "\n",
    "We frequently need to use python to open a file on our computers and work with the contents. Let's look at an example:"
   ]
  },
  {
   "cell_type": "code",
   "execution_count": 8,
   "id": "5090bbb2",
   "metadata": {},
   "outputs": [
    {
     "name": "stdout",
     "output_type": "stream",
     "text": [
      ">sp|Q9ULX7|CAH14_HUMAN Carbonic anhydrase 14 OS=Homo sapiens OX=9606 GN=CA14 PE=1 SV=1\n",
      "MLFSALLLEVIWILAADGGQHWTYEGPHGQDHWPASYPECGNNAQSPIDIQTDSVTFDPD\n",
      "LPALQPHGYDQPGTEPLDLHNNGHTVQLSLPSTLYLGGLPRKYVAAQLHLHWGQKGSPGG\n",
      "SEHQINSEATFAELHIVHYDSDSYDSLSEAAERPQGLAVLGILIEVGETKNIAYEHILSH\n",
      "LHEVRHKDQKTSVPPFNLRELLPKQLGQYFRYNGSLTTPPCYQSVLWTVFYRRSQISMEQ\n",
      "LEKLQGTLFSTEEEPSKLLVQNYRALQPLNQRMVFASFIQAGSSYTTGEMLSLGVGILVG\n",
      "CLCLLLAVYFIARKIRKKRLENRKSVVFTSAQATTEA\n"
     ]
    }
   ],
   "source": [
    "# open the FASTA file in 'read' mode\n",
    "fasta_file = open('fasta/small.fasta','r').readlines()\n",
    "\n",
    "# iterate through lines\n",
    "for line in fasta_file:\n",
    "    print(line.strip())"
   ]
  },
  {
   "cell_type": "markdown",
   "id": "18340673",
   "metadata": {},
   "source": [
    "Let's explain the above:\n",
    "\n",
    " - On line 2, we use 'open' to access our file\n",
    "     - the first argument ```fasta/small.fasta``` is the path to the file we want to access\n",
    "     - the second argument ```r``` tells python to open the file in 'read' mode\n",
    "     - the ```.readlines()``` call tells python to separate the file into individual lines\n",
    " - On line 5, we iterate through the lines of the file\n",
    " - On line 6, we print the line\n",
    "     - The ```.strip()``` call removes extra spaces from the start and end of the text "
   ]
  },
  {
   "cell_type": "markdown",
   "id": "86ce8c5c",
   "metadata": {},
   "source": [
    "Let's add a filter in our ```for``` loop so we print only the FASTA header line"
   ]
  },
  {
   "cell_type": "code",
   "execution_count": 12,
   "id": "a9182bc4",
   "metadata": {},
   "outputs": [
    {
     "name": "stdout",
     "output_type": "stream",
     "text": [
      ">sp|Q9ULX7|CAH14_HUMAN Carbonic anhydrase 14 OS=Homo sapiens OX=9606 GN=CA14 PE=1 SV=1\n"
     ]
    }
   ],
   "source": [
    "# open the FASTA file in 'read' mode\n",
    "fasta_file = open('fasta/small.fasta','r').readlines()\n",
    "\n",
    "# iterate through lines\n",
    "for line in fasta_file:\n",
    "    if '>' in line:\n",
    "        print(line.strip())"
   ]
  },
  {
   "cell_type": "markdown",
   "id": "1c9ee6c8",
   "metadata": {},
   "source": [
    "What if we wanted to print the sequence and not the header lines?"
   ]
  },
  {
   "cell_type": "code",
   "execution_count": 13,
   "id": "520d0b54",
   "metadata": {},
   "outputs": [
    {
     "name": "stdout",
     "output_type": "stream",
     "text": [
      "MLFSALLLEVIWILAADGGQHWTYEGPHGQDHWPASYPECGNNAQSPIDIQTDSVTFDPD\n",
      "LPALQPHGYDQPGTEPLDLHNNGHTVQLSLPSTLYLGGLPRKYVAAQLHLHWGQKGSPGG\n",
      "SEHQINSEATFAELHIVHYDSDSYDSLSEAAERPQGLAVLGILIEVGETKNIAYEHILSH\n",
      "LHEVRHKDQKTSVPPFNLRELLPKQLGQYFRYNGSLTTPPCYQSVLWTVFYRRSQISMEQ\n",
      "LEKLQGTLFSTEEEPSKLLVQNYRALQPLNQRMVFASFIQAGSSYTTGEMLSLGVGILVG\n",
      "CLCLLLAVYFIARKIRKKRLENRKSVVFTSAQATTEA\n"
     ]
    }
   ],
   "source": [
    "# open the FASTA file in 'read' mode\n",
    "fasta_file = open('fasta/small.fasta','r').readlines()\n",
    "\n",
    "# iterate through lines\n",
    "for line in fasta_file:\n",
    "    if '>' not in line:\n",
    "        print(line.strip())"
   ]
  },
  {
   "cell_type": "markdown",
   "id": "3a090faf",
   "metadata": {},
   "source": [
    "We've got our sequence above but there's a small problem - it's split across 6 lines. Ideally, we'd like our sequence to be one continuous string so we can easily compare it to other sequences."
   ]
  },
  {
   "cell_type": "code",
   "execution_count": 21,
   "id": "dc5289db",
   "metadata": {},
   "outputs": [
    {
     "name": "stdout",
     "output_type": "stream",
     "text": [
      "MLFSALLLEVIWILAADGGQHWTYEGPHGQDHWPASYPECGNNAQSPIDIQTDSVTFDPDLPALQPHGYDQPGTEPLDLHNNGHTVQLSLPSTLYLGGLPRKYVAAQLHLHWGQKGSPGGSEHQINSEATFAELHIVHYDSDSYDSLSEAAERPQGLAVLGILIEVGETKNIAYEHILSHLHEVRHKDQKTSVPPFNLRELLPKQLGQYFRYNGSLTTPPCYQSVLWTVFYRRSQISMEQLEKLQGTLFSTEEEPSKLLVQNYRALQPLNQRMVFASFIQAGSSYTTGEMLSLGVGILVGCLCLLLAVYFIARKIRKKRLENRKSVVFTSAQATTEA\n"
     ]
    }
   ],
   "source": [
    "# open the FASTA file in 'read' mode\n",
    "fasta_file = open('fasta/small.fasta','r').readlines()\n",
    "\n",
    "# create an 'empty' string using the '' or \"\" quote marks\n",
    "this_protein = ''\n",
    "\n",
    "# iterate through lines\n",
    "for line in fasta_file:\n",
    "    if '>' not in line:\n",
    "        \n",
    "        # here, we add the new line to our empty string\n",
    "        this_protein += line.strip()\n",
    "\n",
    "# print the result\n",
    "print(this_protein)"
   ]
  },
  {
   "cell_type": "markdown",
   "id": "f2abc3cf",
   "metadata": {},
   "source": [
    "OK, so we know how to assemble the whole protein sequence into one string. So far, this works fine for our small fasta file (which only has one protein), but what if the file had more?\n",
    "\n",
    "Let's write some code that uses the ```medium.fasta``` file as input."
   ]
  },
  {
   "cell_type": "markdown",
   "id": "331cb33d",
   "metadata": {},
   "source": [
    "First, we'll count the number of proteins:"
   ]
  },
  {
   "cell_type": "code",
   "execution_count": 24,
   "id": "ca562714",
   "metadata": {},
   "outputs": [
    {
     "name": "stdout",
     "output_type": "stream",
     "text": [
      "2\n"
     ]
    }
   ],
   "source": [
    "# open the FASTA file in 'read' mode\n",
    "fasta_file = open('fasta/medium.fasta','r').readlines()\n",
    "\n",
    "counter = 0\n",
    "\n",
    "# iterate through lines\n",
    "for line in fasta_file:\n",
    "    \n",
    "    # add 1 to our counter for every header line we see\n",
    "    if '>' in line:\n",
    "        counter += 1\n",
    "\n",
    "# print the result\n",
    "print(counter)"
   ]
  },
  {
   "cell_type": "code",
   "execution_count": 31,
   "id": "cafae6bc",
   "metadata": {},
   "outputs": [
    {
     "name": "stdout",
     "output_type": "stream",
     "text": [
      "MLFSALLLEVIWILAADGGQHWTYEGPHGQDHWPASYPECGNNAQSPIDIQTDSVTFDPDLPALQPHGYDQPGTEPLDLHNNGHTVQLSLPSTLYLGGLPRKYVAAQLHLHWGQKGSPGGSEHQINSEATFAELHIVHYDSDSYDSLSEAAERPQGLAVLGILIEVGETKNIAYEHILSHLHEVRHKDQKTSVPPFNLRELLPKQLGQYFRYNGSLTTPPCYQSVLWTVFYRRSQISMEQLEKLQGTLFSTEEEPSKLLVQNYRALQPLNQRMVFASFIQAGSSYTTGEMLSLGVGILVGCLCLLLAVYFIARKIRKKRLENRKSVVFTSAQATTEA\n",
      "MPPSISAFQAAYIGIEVLIALVSVPGNVLVIWAVKVNQALRDATFCFIVSLAVADVAVGALVIPLAILINIGPQTYFHTCLMVACPVLILTQSSILALLAIAVDRYLRVKIPLRYKMVVTPRRAAVAIAGCWILSFVVGLTPMFGWNNLSAVERAWAANGSMGEPVIKCEFEKVISMEYMVYFNFFVWVLPPLLLMVLIYLEVFYLIRKQLNKKVSASSGDPQKYYGKELKIAKSLALILFLFALSWLPLHILNCITLFCPSCHKPSILTYIAIFLTHGNSAMNPIVYAFRIQKFRVTFLKIWNDHFRCQPAPPIDEDLPEERPDD\n"
     ]
    }
   ],
   "source": [
    "# open the FASTA file in 'read' mode\n",
    "fasta_file = open('fasta/medium.fasta','r').readlines()\n",
    "\n",
    "# create an 'empty' list to store the sequences\n",
    "sequences = []\n",
    "\n",
    "# iterate through lines\n",
    "for line in fasta_file:\n",
    "    \n",
    "    if '>' in line:\n",
    "        # for every header line we see, add an empty string to the list\n",
    "        # -- this empty string will later be populated with the sequence\n",
    "        sequences.append('')\n",
    "        \n",
    "    if '>' not in line:\n",
    "        # here, we add the new line to our empty string\n",
    "        # note that sequences[-1] refers to the last item in the list\n",
    "        sequences[-1] += line.strip()\n",
    "\n",
    "# print the result\n",
    "for sequence in sequences:\n",
    "    print(sequence)"
   ]
  },
  {
   "cell_type": "markdown",
   "id": "d506fc0b",
   "metadata": {},
   "source": [
    "## Finding mutations in protein sequences between two subjects\n",
    "\n",
    "Ok, let's move on to something a bit more involved. Let's say that we've got a list of protein sequences found in two different people and we suspect that one person has a detrimental mutation in at least one protein. Our task is to read the files containing the protein sequences for each person, iterate through them, and compare their sequences to find any differences.\n",
    "\n",
    "The protein sequences are in the 'FASTA' directory and are labelled **'subject_1.fasta'** and **'subject_2.fasta'**\n",
    "\n",
    "Our first job is to look at the data files and see what we're dealing with. Open one of the subject fasta files in a text editor (notepad or similar).\n",
    "\n",
    "<img src=\"img/fasta_files.PNG\" width=\"95%\"/>\n",
    "The data is in the [FASTA file format](https://en.wikipedia.org/wiki/FASTA_format) which is common in proteomics. Here, each protein entry begins with a 'header' line that begins with '>' followed by some text that can provide database identifiers, protein names and descriptions, taxonomy information and so on.\n",
    "\n",
    "The following lines provide the sequence of the protein."
   ]
  },
  {
   "cell_type": "markdown",
   "id": "95220811",
   "metadata": {},
   "source": [
    "#### Exploring the data\n",
    "\n",
    "Let's check how many proteins we have in each file"
   ]
  },
  {
   "cell_type": "code",
   "execution_count": 35,
   "id": "ba5da416",
   "metadata": {},
   "outputs": [
    {
     "name": "stdout",
     "output_type": "stream",
     "text": [
      "3684\n",
      "3684\n"
     ]
    }
   ],
   "source": [
    "def count_proteins(file_name):\n",
    "\n",
    "    # create an empty list\n",
    "    # here, we'll store the FASTA header lines as we read them from the files\n",
    "    headers = []\n",
    "    \n",
    "    # open the FASTA file in 'read' mode\n",
    "    fasta_file = open(file_name,'r').readlines()\n",
    "    \n",
    "    # iterate through lines\n",
    "    for line in fasta_file:\n",
    "        \n",
    "        # we're interested in the header lines, which start with '>'\n",
    "        if '>' in line:\n",
    "            \n",
    "            # we've found a header line\n",
    "            # - append to the list\n",
    "            headers.append(line)\n",
    "    \n",
    "    # return the list from the function\n",
    "    return headers\n",
    "\n",
    "# read the subject_1 FASTA file\n",
    "subject_1_headers = count_proteins('fasta/subject_1.fasta')\n",
    "\n",
    "# read the subject_2 FASTA file\n",
    "subject_2_headers = count_proteins('fasta/subject_2.fasta')\n",
    "\n",
    "print(len(subject_1_headers))\n",
    "print(len(subject_2_headers))"
   ]
  },
  {
   "cell_type": "code",
   "execution_count": 40,
   "id": "a94001e2",
   "metadata": {},
   "outputs": [],
   "source": [
    "def read_protein_sequences(file_name):\n",
    "    \n",
    "    # open the FASTA file in 'read' mode\n",
    "    fasta_file = open(file_name,'r').readlines()\n",
    "\n",
    "    # create an 'empty' list to store the sequences\n",
    "    sequences = []\n",
    "\n",
    "    # iterate through lines\n",
    "    for line in fasta_file:\n",
    "\n",
    "        if '>' in line:\n",
    "            # for every header line we see, add an empty string to the list\n",
    "            # -- this empty string will later be populated with the sequence\n",
    "            sequences.append('')\n",
    "\n",
    "        if '>' not in line:\n",
    "            # here, we add the new line to our empty string\n",
    "            # note that sequences[-1] refers to the last item in the list\n",
    "            sequences[-1] += line.strip()\n",
    "    \n",
    "    return sequences\n",
    "\n",
    "# read the subject_1 FASTA file\n",
    "subject_1_sequences = read_protein_sequences('fasta/subject_1.fasta')\n",
    "\n",
    "# read the subject_2 FASTA file\n",
    "subject_2_sequences = read_protein_sequences('fasta/subject_2.fasta')"
   ]
  },
  {
   "cell_type": "markdown",
   "id": "fca12d83",
   "metadata": {},
   "source": [
    "Now we've got our protein sequences from both subjects. Let's see if there are any differences:"
   ]
  },
  {
   "cell_type": "code",
   "execution_count": 41,
   "id": "35ffc54e",
   "metadata": {},
   "outputs": [
    {
     "name": "stdout",
     "output_type": "stream",
     "text": [
      "False\n"
     ]
    }
   ],
   "source": [
    "print(subject_1_sequences == subject_2_sequences)"
   ]
  },
  {
   "cell_type": "markdown",
   "id": "365e7a91",
   "metadata": {},
   "source": [
    "There are some differences between our subjects! Right now, we don't know how many proteins or amino acids differ though. Lets find them:"
   ]
  },
  {
   "cell_type": "code",
   "execution_count": 48,
   "id": "c69d1c80",
   "metadata": {},
   "outputs": [
    {
     "name": "stdout",
     "output_type": "stream",
     "text": [
      "MEEPQSDPSVEPPLSQETFSDLWKLLPENNVLSPLPSQAMDDLMLSPDDIEQWFTEDPGPDEAPRMPEAAPPVAPAPAAPTPAAPAPAPSWPLSSSVPSQKTYQGSYGFRLGFLHSGTAKSVTCTYSPALNKMFCQLAKTCPVQLWVDSTPPPGTRVRAMAIYKQSQHMTEVVRRCPHHERCSDSDGLAPPQHLIRVEGNLRVEYLDDRNTFRHSVVVPYEPPEVGSDCTTIHYNYMCNSSCMGGMNRRPILTIITLEDSSGNLLGRNSFEVRVCACPGRDRRTEEENLRKKGEPHHELPPGSTKRALPNNTSSSPQPKKKPLDGEYFTLQIRGRERFEMFRELNEALELKDAQAGKEPGGSRAHSSHLKSKKGQSTSRHKKLMFKTEGPDSD\n",
      "MEEPQSDPSVEPPLSQETFSDLWKLLPENNVLSPLPSQAMDDLMLSPDDIEQWFTEDPGPDEAPRMPEAAPPVAPAPAAPTPAAPAPAPSWPLSSSVPSQKTYQGSYGFRLGFLHSGTAKSVTCTYSPALNKMFCQLAKTCPVQLWVDSTPPPGTRVRAMAIYKQSQHMTEVVRRCPHHERCSDSDGLAPPQHLIRVEGNLRVEYLDDRNTFRHSVVVPYEPPEVGSDCTTIHYNYMCNSSCMGGMNRRPILTIITLEDSSGNLLGRNSFEVHVCACPGRDRRTEEENLRKKGEPHHELPPGSTKRALPNNTSSSPQPKKKPLDGEYFTLQIRGRERFEMFRELNEALELKDAQAGKEPGGSRAHSSHLKSKKGQSTSRHKKLMFKTEGPDSD\n"
     ]
    }
   ],
   "source": [
    "for i in range(len(subject_1_sequences)):\n",
    "    if subject_1_sequences[i] != subject_2_sequences[i]:\n",
    "        print(subject_1_sequences[i])\n",
    "        print(subject_2_sequences[i])"
   ]
  },
  {
   "cell_type": "markdown",
   "id": "3837773c",
   "metadata": {},
   "source": [
    "Can you spot the amino acid that's different? It's a bit hard. Let's write some code to find it for us:"
   ]
  },
  {
   "cell_type": "code",
   "execution_count": 47,
   "id": "027cd958",
   "metadata": {},
   "outputs": [
    {
     "name": "stdout",
     "output_type": "stream",
     "text": [
      "272: R --> H\n"
     ]
    }
   ],
   "source": [
    "for i in range(len(subject_1_sequences)):\n",
    "    if subject_1_sequences[i] != subject_2_sequences[i]:      \n",
    "        for j in range(len(subject_1_sequences[i])):\n",
    "            if subject_1_sequences[i][j] != subject_2_sequences[i][j]:\n",
    "                print('%s: %s --> %s' % (\n",
    "                    j, subject_1_sequences[i][j], subject_2_sequences[i][j])\n",
    "                )"
   ]
  }
 ],
 "metadata": {
  "kernelspec": {
   "display_name": "Python 2",
   "language": "python",
   "name": "python2"
  },
  "language_info": {
   "codemirror_mode": {
    "name": "ipython",
    "version": 3
   },
   "file_extension": ".py",
   "mimetype": "text/x-python",
   "name": "python",
   "nbconvert_exporter": "python",
   "pygments_lexer": "ipython3",
   "version": "3.10.3"
  }
 },
 "nbformat": 4,
 "nbformat_minor": 5
}
